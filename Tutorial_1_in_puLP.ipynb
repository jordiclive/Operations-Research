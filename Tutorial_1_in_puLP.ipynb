{
  "nbformat": 4,
  "nbformat_minor": 0,
  "metadata": {
    "colab": {
      "name": "Tutorial 1 in puLP",
      "provenance": [],
      "authorship_tag": "ABX9TyOxFaduZ2/Pli08dBG9CAmA"
    },
    "kernelspec": {
      "name": "python3",
      "display_name": "Python 3"
    }
  },
  "cells": [
    {
      "cell_type": "markdown",
      "metadata": {
        "id": "xOMFpqeCme8N"
      },
      "source": [
        "Credits to professor Mirko Stojiljković for writing this great [article](https://realpython.com/linear-programming-python/)\n",
        "\n",
        "---\n",
        "\n"
      ]
    },
    {
      "cell_type": "markdown",
      "metadata": {
        "id": "XwArMQh5lhIa"
      },
      "source": [
        "# Installing puLP"
      ]
    },
    {
      "cell_type": "code",
      "metadata": {
        "id": "NZoFJv03lmWm"
      },
      "source": [
        "%%capture\n",
        "!pip install puLP\n",
        "from pulp import *"
      ],
      "execution_count": null,
      "outputs": []
    },
    {
      "cell_type": "markdown",
      "metadata": {
        "id": "kBd_etdmkg5L"
      },
      "source": [
        "# Optional : use GLPK as the solver (default is CPLEX)"
      ]
    },
    {
      "cell_type": "markdown",
      "metadata": {
        "id": "RibZj3M4lymW"
      },
      "source": [
        "Download GLPK and compile it. You can skip this if you've already downloaded *it*"
      ]
    },
    {
      "cell_type": "code",
      "metadata": {
        "id": "RWLAX_a20aQL"
      },
      "source": [
        "%%capture\n",
        "!wget -qO- ftp://ftp.gnu.org/gnu/glpk/glpk-4.65.tar.gz | tar -z -xf- ; cd glpk-4.65; ./configure; make --jobs=4"
      ],
      "execution_count": null,
      "outputs": []
    },
    {
      "cell_type": "markdown",
      "metadata": {
        "id": "-uvtcnkmmEhl"
      },
      "source": [
        "This is the solver path for Colab, if you're using something else it will be different"
      ]
    },
    {
      "cell_type": "code",
      "metadata": {
        "id": "9U9ISLzqmL5O"
      },
      "source": [
        "path_to_glpk = r'/content/glpk-4.65/examples/glpsol'\n",
        "glpk_solver = GLPK_CMD(path=path_to_glpk)"
      ],
      "execution_count": null,
      "outputs": []
    },
    {
      "cell_type": "markdown",
      "metadata": {
        "id": "iCHReGoflWU5"
      },
      "source": [
        "# Otherwise"
      ]
    },
    {
      "cell_type": "code",
      "metadata": {
        "id": "vZRq39OOKad2"
      },
      "source": [
        "def print_solution(model):\n",
        "    '''\n",
        "    Prints solution nicely!\n",
        "    '''\n",
        "    print(f\"status: {model.status}, {LpStatus[model.status]}\")\n",
        "    print(f\"objective: {model.objective.value()}\")\n",
        "    for var in model.variables():\n",
        "        print(f\"{var.name}: {var.value()}\")"
      ],
      "execution_count": null,
      "outputs": []
    },
    {
      "cell_type": "markdown",
      "metadata": {
        "id": "4NVa1sDVk-I1"
      },
      "source": [
        "\n",
        "\n",
        "---\n",
        "\n"
      ]
    },
    {
      "cell_type": "markdown",
      "metadata": {
        "id": "yLCBjz36mUL9"
      },
      "source": [
        "Lecture 1 problem"
      ]
    },
    {
      "cell_type": "code",
      "metadata": {
        "id": "5po60yVttsKW",
        "outputId": "7c828681-73c3-4a0d-a383-a0639f10a6bb",
        "colab": {
          "base_uri": "https://localhost:8080/",
          "height": 334
        }
      },
      "source": [
        "model = LpProblem('ex1', LpMaximize)\n",
        "\n",
        "# def decision variables\n",
        "x = {i: LpVariable(name=f'x({i})', lowBound=0) for i in {1, 2}}\n",
        "\n",
        "# def objective\n",
        "model += lpSum(x.values())\n",
        "# def constraints\n",
        "\n",
        "model += (2 * x[1] + x[2] <= 11, 'supplyX')\n",
        "model += (x[1] + 3 * x[2] <= 18, 'supplyY')\n",
        "model += (x[1] <= 4, 'demandA')\n",
        "\n",
        "print(model)\n",
        "\n",
        "status = model.solve(solver=glpk_solver)\n",
        "# if you installed glpk, otherwise model.solve()\n",
        "\n",
        "print_solution(model)"
      ],
      "execution_count": null,
      "outputs": [
        {
          "output_type": "stream",
          "text": [
            "ex1:\n",
            "MAXIMIZE\n",
            "1*x(1) + 1*x(2) + 0\n",
            "SUBJECT TO\n",
            "supplyX: 2 x(1) + x(2) <= 11\n",
            "\n",
            "supplyY: x(1) + 3 x(2) <= 18\n",
            "\n",
            "demandA: x(1) <= 4\n",
            "\n",
            "VARIABLES\n",
            "x(1) Continuous\n",
            "x(2) Continuous\n",
            "\n",
            "status: 1, Optimal\n",
            "objective: 8.0\n",
            "x(1): 3.0\n",
            "x(2): 5.0\n"
          ],
          "name": "stdout"
        }
      ]
    },
    {
      "cell_type": "markdown",
      "metadata": {
        "id": "OKnKOZKnJRp6"
      },
      "source": [
        "Tutorial 1 Exercise 1"
      ]
    },
    {
      "cell_type": "code",
      "metadata": {
        "id": "Jxvf4PDFJWVb",
        "outputId": "b99e0a17-1eb4-4ac5-91bd-2743388c1c0f",
        "colab": {
          "base_uri": "https://localhost:8080/",
          "height": 369
        }
      },
      "source": [
        "tut_model_1 = LpProblem('tut1', LpMaximize)\n",
        "# decision variables\n",
        "x = {i: LpVariable(name=f'x({i})', lowBound=0) for i in range(1,5)}\n",
        "tut_model_1 += 2 * x[1] + x[2]\n",
        "# constraints\n",
        "tut_model_1 += x[1] - 4 * x[2] + x[3] <= 1\n",
        "tut_model_1 += x[1] + 5 * x[2] - x[4] <= 3\n",
        "\n",
        "print(tut_model_1)\n",
        "tut_model_1.solve(solver=glpk_solver)\n",
        "print_solution(tut_model_1)"
      ],
      "execution_count": null,
      "outputs": [
        {
          "output_type": "stream",
          "text": [
            "tut1:\n",
            "MAXIMIZE\n",
            "2*x(1) + 1*x(2) + 0\n",
            "SUBJECT TO\n",
            "_C1: x(1) - 4 x(2) + x(3) <= 1\n",
            "\n",
            "_C2: x(1) + 5 x(2) - x(4) <= 3\n",
            "\n",
            "VARIABLES\n",
            "x(1) Continuous\n",
            "x(2) Continuous\n",
            "x(3) Continuous\n",
            "x(4) Continuous\n",
            "\n",
            "status: -3, Undefined\n",
            "objective: 0.0\n",
            "x(1): 0.0\n",
            "x(2): 0.0\n",
            "x(3): 0.0\n",
            "x(4): 0.0\n"
          ],
          "name": "stdout"
        }
      ]
    },
    {
      "cell_type": "markdown",
      "metadata": {
        "id": "rgNPk9o4fjxf"
      },
      "source": [
        "Tutorial 1 Exercise 2.1"
      ]
    },
    {
      "cell_type": "code",
      "metadata": {
        "id": "yJew21AkLVY8",
        "outputId": "78ccf924-bbdb-4309-b56e-1d2d8f9b7b3f",
        "colab": {
          "base_uri": "https://localhost:8080/",
          "height": 545
        }
      },
      "source": [
        "tut_model_2 = LpProblem('tut2', LpMinimize)\n",
        "# decision variables\n",
        "x = {(i, j): LpVariable(name=f'x({i},{j})', lowBound=0)\n",
        "     for (i, j) in itertools.product({'A', 'B'}, {1, 2, 3})}\n",
        "# objective\n",
        "tut_model_2 += (x['A', 1] + 2 * x['A', 2] + x['A', 3] + 2 * x['B', 1] +\n",
        "                x['B', 2] + 2 * x['B', 3])\n",
        "# constraints\n",
        "for i in range(1,4):\n",
        "    tut_model_2 += x['A', i] + x['B', i] == 2\n",
        "for i in {'A','B'}:\n",
        "    tut_model_2 += x[i, 1] + x[i, 2] + x[i, 3] <= 3\n",
        "\n",
        "print(tut_model_2)\n",
        "tut_model_2.solve(solver=glpk_solver)\n",
        "print_solution(tut_model_2)"
      ],
      "execution_count": null,
      "outputs": [
        {
          "output_type": "stream",
          "text": [
            "tut2:\n",
            "MINIMIZE\n",
            "1*x(A,1) + 2*x(A,2) + 1*x(A,3) + 2*x(B,1) + 1*x(B,2) + 2*x(B,3) + 0\n",
            "SUBJECT TO\n",
            "_C1: x(A,1) + x(B,1) = 2\n",
            "\n",
            "_C2: x(A,2) + x(B,2) = 2\n",
            "\n",
            "_C3: x(A,3) + x(B,3) = 2\n",
            "\n",
            "_C4: x(A,1) + x(A,2) + x(A,3) <= 3\n",
            "\n",
            "_C5: x(B,1) + x(B,2) + x(B,3) <= 3\n",
            "\n",
            "VARIABLES\n",
            "x(A,1) Continuous\n",
            "x(A,2) Continuous\n",
            "x(A,3) Continuous\n",
            "x(B,1) Continuous\n",
            "x(B,2) Continuous\n",
            "x(B,3) Continuous\n",
            "\n",
            "status: 1, Optimal\n",
            "objective: 7.0\n",
            "x(A,1): 2.0\n",
            "x(A,2): 0.0\n",
            "x(A,3): 1.0\n",
            "x(B,1): 0.0\n",
            "x(B,2): 2.0\n",
            "x(B,3): 1.0\n"
          ],
          "name": "stdout"
        }
      ]
    },
    {
      "cell_type": "markdown",
      "metadata": {
        "id": "Upf6p0hXkCAD"
      },
      "source": [
        "Tutorial 1 Exercise 3"
      ]
    },
    {
      "cell_type": "code",
      "metadata": {
        "id": "kUThL3Ajgjf6",
        "outputId": "795ef1f6-d26c-485a-ae3c-78e40c37ae68",
        "colab": {
          "base_uri": "https://localhost:8080/",
          "height": 35
        }
      },
      "source": [
        "import numpy as np\n",
        "a = np.array([[1, -1, 1, 1],\n",
        "             [3, 1, 2, 2],\n",
        "             [1, 4, -1, -4],\n",
        "             [2, 0, -2, 3]])\n",
        "b = np.array([6, 12, 3, -8])\n",
        "\n",
        "# actually solving the whole system\n",
        "print(np.linalg.solve(a, b))\n",
        "\n",
        "# finding its rank\n",
        "print(np.linalg.matrix_rank(a))"
      ],
      "execution_count": null,
      "outputs": [
        {
          "output_type": "execute_result",
          "data": {
            "text/plain": [
              "4"
            ]
          },
          "metadata": {
            "tags": []
          },
          "execution_count": 68
        }
      ]
    },
    {
      "cell_type": "markdown",
      "metadata": {
        "id": "jFqrchhGJ-YL"
      },
      "source": [
        "Tutorial 1 Exercise 4"
      ]
    },
    {
      "cell_type": "code",
      "metadata": {
        "id": "fU-fWTrUKDZ7",
        "outputId": "b751b1b5-8f93-4ee4-e5cc-649ed4311e74",
        "colab": {
          "base_uri": "https://localhost:8080/",
          "height": 651
        }
      },
      "source": [
        "model_4 = LpProblem('ex4', LpMinimize)\n",
        "# cost array\n",
        "c = np.array([500, 480, 460, 460, 460, 460, 480])\n",
        "# chose to have integer variables, made more sense in this case\n",
        "x = {i: LpVariable(name=f'x({i})', lowBound=0, cat='Integer') for i in range(1, 8)}\n",
        "# objective\n",
        "model_4 += lpSum([c[i] * x[i+1] for i in range(7)]) # pulp is 1-indexed\n",
        "# constraints\n",
        "# this part could be less terse\n",
        "import operator\n",
        "for i in range(1, 8):\n",
        "    excl = {i, i%7+1}\n",
        "    if i==1: # for shifts including Sunday\n",
        "        rhs, op = 8, operator.eq\n",
        "    elif i in {6, 7}: # for shifts including Friday or Saturday\n",
        "        rhs, op = 10, operator.ge\n",
        "    else:\n",
        "        rhs, op = 6, operator.ge \n",
        "    model_4 += (op(lpSum([v for k, v in x.items() if k not in excl]), rhs))\n",
        "print(model_4)\n",
        "model_4.solve(solver=glpk_solver)\n",
        "print_solution(model_4)"
      ],
      "execution_count": null,
      "outputs": [
        {
          "output_type": "stream",
          "text": [
            "ex4:\n",
            "MINIMIZE\n",
            "500*x(1) + 480*x(2) + 460*x(3) + 460*x(4) + 460*x(5) + 460*x(6) + 480*x(7) + 0\n",
            "SUBJECT TO\n",
            "_C1: x(3) + x(4) + x(5) + x(6) + x(7) = 8\n",
            "\n",
            "_C2: x(1) + x(4) + x(5) + x(6) + x(7) >= 6\n",
            "\n",
            "_C3: x(1) + x(2) + x(5) + x(6) + x(7) >= 6\n",
            "\n",
            "_C4: x(1) + x(2) + x(3) + x(6) + x(7) >= 6\n",
            "\n",
            "_C5: x(1) + x(2) + x(3) + x(4) + x(7) >= 6\n",
            "\n",
            "_C6: x(1) + x(2) + x(3) + x(4) + x(5) >= 10\n",
            "\n",
            "_C7: x(2) + x(3) + x(4) + x(5) + x(6) >= 10\n",
            "\n",
            "VARIABLES\n",
            "0 <= x(1) Integer\n",
            "0 <= x(2) Integer\n",
            "0 <= x(3) Integer\n",
            "0 <= x(4) Integer\n",
            "0 <= x(5) Integer\n",
            "0 <= x(6) Integer\n",
            "0 <= x(7) Integer\n",
            "\n",
            "status: 1, Optimal\n",
            "objective: 5120\n",
            "x(1): 0\n",
            "x(2): 3\n",
            "x(3): 2\n",
            "x(4): 3\n",
            "x(5): 2\n",
            "x(6): 1\n",
            "x(7): 0\n"
          ],
          "name": "stdout"
        }
      ]
    },
    {
      "cell_type": "markdown",
      "metadata": {
        "id": "lhPatcmTd4Fl"
      },
      "source": [
        "Case Study 1"
      ]
    },
    {
      "cell_type": "code",
      "metadata": {
        "id": "Y_a1vDViVYk-",
        "outputId": "edbfd0ce-8525-44ae-a15f-13d8e189cf48",
        "colab": {
          "base_uri": "https://localhost:8080/",
          "height": 475
        }
      },
      "source": [
        "cs_model = LpProblem('Fertilizer_Resource_Allocation', -1)\n",
        "\n",
        "x = {1: LpVariable(name='S', lowBound=1000),\n",
        "     2: LpVariable(name='E', lowBound=500),\n",
        "     3: LpVariable(name='N', lowBound=0),}\n",
        "s = {1: LpVariable(name='s1', lowBound=0),\n",
        "     2: LpVariable(name='s2', lowBound=0),\n",
        "     3: LpVariable(name='s3', lowBound=0),}\n",
        "\n",
        "cs_model += 3 * x[1] + 5 * x[2] + 5 * x[3]\n",
        "\n",
        "cs_model += 0.15 * x[1] + 0.1 * x[2] + 0.05 * x[3] + s[1] == 1000\n",
        "cs_model += 0.05 * x[1] + 0.1 * x[2] + 0.1 * x[3] + s[2] == 1600\n",
        "cs_model += 0.1 * x[1] + 0.1 * x[2] + 0.15 * x[3] + s[3] == 2500\n",
        "\n",
        "print(cs_model)\n",
        "cs_model.solve(solver=glpk_solver)\n",
        "print_solution(cs_model)"
      ],
      "execution_count": null,
      "outputs": [
        {
          "output_type": "stream",
          "text": [
            "Fertilizer_Resource_Allocation:\n",
            "MAXIMIZE\n",
            "5*E + 5*N + 3*S + 0\n",
            "SUBJECT TO\n",
            "_C1: 0.1 E + 0.05 N + 0.15 S + s1 = 1000\n",
            "\n",
            "_C2: 0.1 E + 0.1 N + 0.05 S + s2 = 1600\n",
            "\n",
            "_C3: 0.1 E + 0.15 N + 0.1 S + s3 = 2500\n",
            "\n",
            "VARIABLES\n",
            "500 <= E Continuous\n",
            "N Continuous\n",
            "1000 <= S Continuous\n",
            "s1 Continuous\n",
            "s2 Continuous\n",
            "s3 Continuous\n",
            "\n",
            "status: 1, Optimal\n",
            "objective: 80700.0\n",
            "E: 500.0\n",
            "N: 14800.0\n",
            "S: 1400.0\n",
            "s1: 0.0\n",
            "s2: 0.0\n",
            "s3: 90.0\n"
          ],
          "name": "stdout"
        }
      ]
    }
  ]
}